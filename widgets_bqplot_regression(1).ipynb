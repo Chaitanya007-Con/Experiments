{
 "cells": [
  {
   "cell_type": "markdown",
   "metadata": {},
   "source": [
    "# bqplot"
   ]
  },
  {
   "cell_type": "code",
   "execution_count": 1,
   "metadata": {},
   "outputs": [
    {
     "data": {
      "text/plain": [
       "'/Users/cnakhare'"
      ]
     },
     "execution_count": 1,
     "metadata": {},
     "output_type": "execute_result"
    }
   ],
   "source": [
    "pwd"
   ]
  },
  {
   "cell_type": "code",
   "execution_count": 2,
   "metadata": {},
   "outputs": [],
   "source": [
    "# Let's begin by importing some libraries we'll need\n",
    "import numpy as np\n",
    "import pandas as pd"
   ]
  },
  {
   "cell_type": "code",
   "execution_count": 3,
   "metadata": {},
   "outputs": [],
   "source": [
    "from __future__ import print_function\n",
    "\n",
    "import sys, os, time"
   ]
  },
  {
   "cell_type": "code",
   "execution_count": 4,
   "metadata": {},
   "outputs": [],
   "source": [
    "# And creating some random data\n",
    "size=100\n",
    "np.random.seed(0)\n",
    "x_data = np.arange(size)\n",
    "y_data = np.cumsum(np.random.randn(size)  * 100.0)"
   ]
  },
  {
   "cell_type": "code",
   "execution_count": 5,
   "metadata": {},
   "outputs": [],
   "source": [
    "# We'll start with bqplot's matplotlib inspired API\n",
    "\n",
    "from bqplot import pyplot as plt"
   ]
  },
  {
   "cell_type": "markdown",
   "metadata": {},
   "source": [
    "It means that any plot you generate is, by default, an interactive web element that you can control using **only** Python."
   ]
  },
  {
   "cell_type": "code",
   "execution_count": 7,
   "metadata": {
    "scrolled": false
   },
   "outputs": [
    {
     "data": {
      "application/vnd.jupyter.widget-view+json": {
       "model_id": "de2c68a7e74b4ae58cc065c4f864147d",
       "version_major": 2,
       "version_minor": 0
      },
      "text/plain": [
       "VBox(children=(Figure(axes=[Axis(scale=LinearScale()), Axis(orientation='vertical', scale=LinearScale())], fig…"
      ]
     },
     "metadata": {},
     "output_type": "display_data"
    }
   ],
   "source": [
    "figure = plt.figure(title='Exp plot')\n",
    "scatter = plt.scatter(x_data, y_data)\n",
    "plt.show()"
   ]
  },
  {
   "cell_type": "markdown",
   "metadata": {},
   "source": [
    "It also means that any aspect of the plot **is an interactive widget**. This allows us to change any aspect of the plot - after it's been drawn.\n",
    "\n",
    "#### Try it! Run the cell below a few times and watch the plot above change!"
   ]
  },
  {
   "cell_type": "code",
   "execution_count": 8,
   "metadata": {},
   "outputs": [],
   "source": [
    "scatter.y = np.cumsum(np.random.randn(size)  * 100.0)\n"
   ]
  },
  {
   "cell_type": "markdown",
   "metadata": {},
   "source": [
    "Since a bqplot chart is a web element, we should be able to animate it right?\n",
    "\n",
    "### Let's animate it!"
   ]
  },
  {
   "cell_type": "code",
   "execution_count": 9,
   "metadata": {},
   "outputs": [],
   "source": [
    "figure.animation_duration = 500"
   ]
  },
  {
   "cell_type": "code",
   "execution_count": 10,
   "metadata": {},
   "outputs": [],
   "source": [
    "scatter.y = np.cumsum(np.random.randn(size)  * 100.0)"
   ]
  },
  {
   "cell_type": "code",
   "execution_count": 11,
   "metadata": {},
   "outputs": [],
   "source": [
    "# Say, the color\n",
    "scatter.colors = ['Black']"
   ]
  },
  {
   "cell_type": "code",
   "execution_count": 12,
   "metadata": {},
   "outputs": [],
   "source": [
    "# Or, the marker style\n",
    "scatter.marker = 'diamond'"
   ]
  },
  {
   "cell_type": "markdown",
   "metadata": {},
   "source": [
    "It's important to remember that an interactive widget means that the `JavaScript` and the `Python` communicate. So, the plot can be changed through a single line of python code, or a piece of python code can be triggered by a change in the plot. Let's go through a simple example. Say we have a function `fun`:"
   ]
  },
  {
   "cell_type": "code",
   "execution_count": 13,
   "metadata": {},
   "outputs": [],
   "source": [
    "def fun(change):\n",
    "    #print('Hello Suka Blyat')\n",
    "    print(change)"
   ]
  },
  {
   "cell_type": "markdown",
   "metadata": {},
   "source": [
    "We can call `fun` everytime any attribute of our scatter is changed. Say, the `y` values:"
   ]
  },
  {
   "cell_type": "code",
   "execution_count": 14,
   "metadata": {},
   "outputs": [],
   "source": [
    "# First, we hook up our function `fun` to the colors attribute (or Trait) of the scatter plot\n",
    "scatter.observe(fun, 'y')"
   ]
  },
  {
   "cell_type": "markdown",
   "metadata": {},
   "source": [
    "To allow the points in the `Scatter` to be moved interactively, we set the `enable_move` attribute to `True`"
   ]
  },
  {
   "cell_type": "code",
   "execution_count": 15,
   "metadata": {},
   "outputs": [],
   "source": [
    "scatter.enable_move = True"
   ]
  },
  {
   "cell_type": "markdown",
   "metadata": {},
   "source": [
    "Go ahead, head over to the chart and move any point in some way. This move (which happens on the `JavaScript` side should trigger our `Python` function `fun`."
   ]
  },
  {
   "cell_type": "markdown",
   "metadata": {},
   "source": [
    "## That's great, but what does that have to do with the Grammar of Graphics?\n",
    "\n",
    "`bqplot` has two different APIs. One is the matplotlib inspired `pyplot` which we used above (you can think of it as similar to `qplot` in `ggplot2`). The other one, the verbose API, is meant to expose every element of a plot individually, so that their attriutes can be controlled in an atomic way. In order to truly use `bqplot` to build complex and feature-rich GUIs, it pays to understand the underlying theory that is used to create a plot.\n",
    "\n",
    "**A `Scale` is a mapping from (function that converts) data coordinates to figure coordinates.** What this means is that, a `Scale` takes a set of values in any arbitrary unit (say number of people, or $, or litres) and converts it to pixels (or colors for a `ColorScale`)."
   ]
  },
  {
   "cell_type": "code",
   "execution_count": 16,
   "metadata": {},
   "outputs": [],
   "source": [
    "# First, we import the scales\n",
    "from bqplot import LinearScale"
   ]
  },
  {
   "cell_type": "code",
   "execution_count": 17,
   "metadata": {},
   "outputs": [],
   "source": [
    "# Let's create a scale for the x attribute, and a scale for the y attribute\n",
    "x_sc = LinearScale()\n",
    "y_sc = LinearScale()"
   ]
  },
  {
   "cell_type": "markdown",
   "metadata": {},
   "source": [
    "Now, we need to create the actual `Mark` that will visually represent the data. Let's pick a `Scatter` chart to start."
   ]
  },
  {
   "cell_type": "code",
   "execution_count": 18,
   "metadata": {},
   "outputs": [],
   "source": [
    "from bqplot import Scatter\n",
    "\n",
    "scatter_chart = Scatter(x=x_data[:20], y=y_data[:20], scales={'x': x_sc, 'y': y_sc})"
   ]
  },
  {
   "cell_type": "markdown",
   "metadata": {},
   "source": [
    "Most of the time, the actual `Figure` co-ordinates don't really mean anything to us. So, what we need is the visual representation of our `Scale`, which is called an `Axis`."
   ]
  },
  {
   "cell_type": "code",
   "execution_count": 19,
   "metadata": {},
   "outputs": [],
   "source": [
    "from bqplot import Axis\n",
    "\n",
    "x_ax = Axis(label='X', scale=x_sc)\n",
    "y_ax = Axis(label='Y', scale=y_sc, orientation='vertical')"
   ]
  },
  {
   "cell_type": "markdown",
   "metadata": {},
   "source": [
    "And finally, we put it all together on a canvas, which is called a `Figure`."
   ]
  },
  {
   "cell_type": "code",
   "execution_count": 22,
   "metadata": {},
   "outputs": [
    {
     "data": {
      "application/vnd.jupyter.widget-view+json": {
       "model_id": "d525d53ab65c41babb56d2437d5614f7",
       "version_major": 2,
       "version_minor": 0
      },
      "text/plain": [
       "Figure(axes=[Axis(label='X', scale=LinearScale(), side='bottom'), Axis(label='Y', orientation='vertical', scal…"
      ]
     },
     "metadata": {},
     "output_type": "display_data"
    }
   ],
   "source": [
    "from bqplot import Figure\n",
    "\n",
    "fig = Figure(marks=[scatter_chart], title='A Figure', axes=[x_ax, y_ax])\n",
    "fig"
   ]
  },
  {
   "cell_type": "markdown",
   "metadata": {},
   "source": [
    "Now, that the plot has been generated, we can control every single attribute of it. Let's say we wanted to color the chart based on some other data."
   ]
  },
  {
   "cell_type": "code",
   "execution_count": 23,
   "metadata": {},
   "outputs": [],
   "source": [
    "# First, we generate some random color data.\n",
    "color_data = np.random.randint(0, 2, size=100)"
   ]
  },
  {
   "cell_type": "code",
   "execution_count": 24,
   "metadata": {},
   "outputs": [
    {
     "data": {
      "text/plain": [
       "array([0, 0, 1, 1, 0, 0, 0, 1, 0, 1])"
      ]
     },
     "execution_count": 24,
     "metadata": {},
     "output_type": "execute_result"
    }
   ],
   "source": [
    "color_data[:10]"
   ]
  },
  {
   "cell_type": "markdown",
   "metadata": {},
   "source": [
    "Now, we define a ColorScale to map the color_data to actual colors"
   ]
  },
  {
   "cell_type": "code",
   "execution_count": 25,
   "metadata": {},
   "outputs": [],
   "source": [
    "from bqplot import ColorScale\n",
    "\n",
    "# The colors trait controls the actual colors we want to map to. It can also take a min, mid, max list of\n",
    "# colors to be interpolated between for continuous data.\n",
    "col_sc = ColorScale(colors=['MediumSeaGreen', 'Red'])"
   ]
  },
  {
   "cell_type": "code",
   "execution_count": 26,
   "metadata": {},
   "outputs": [],
   "source": [
    "scatter_chart.scales = {'x': x_sc, 'y': y_sc, 'color': col_sc}\n",
    "# We pass the color data to the Scatter Chart through it's color attribute\n",
    "scatter_chart.color = color_data"
   ]
  },
  {
   "cell_type": "markdown",
   "metadata": {},
   "source": [
    "The grammar of graphics framework allows us to overlay multiple visualizations on a single `Figure` by having the visualization share the `Scales`. So, for example, if we had a `Bar` chart that we would like to plot alongside the `Scatter` plot, we just pass it the same `Scales`."
   ]
  },
  {
   "cell_type": "code",
   "execution_count": 27,
   "metadata": {},
   "outputs": [],
   "source": [
    "from bqplot import Bars\n",
    "\n",
    "scale = 100.\n",
    "x_data_new = np.arange(20)\n",
    "y_data_new = np.cumsum(np.random.randn(20)  * scale)"
   ]
  },
  {
   "cell_type": "code",
   "execution_count": 28,
   "metadata": {},
   "outputs": [],
   "source": [
    "# All we need to do to add a bar chart to the Figure is pass the same scales to the Mark\n",
    "bar_chart = Bars(x=x_data_new, y=y_data_new, scales={'x': x_sc, 'y': y_sc}, colors=['deepskyblue'])"
   ]
  },
  {
   "cell_type": "markdown",
   "metadata": {},
   "source": [
    "Finally, we add the new `Mark` to the `Figure` to update the plot!"
   ]
  },
  {
   "cell_type": "code",
   "execution_count": 29,
   "metadata": {},
   "outputs": [],
   "source": [
    "fig.marks = [bar_chart, scatter_chart]"
   ]
  },
  {
   "cell_type": "markdown",
   "metadata": {},
   "source": [
    "### Tooltips\n",
    "\n",
    "Tooltips can be made to display an attribute of the data:"
   ]
  },
  {
   "cell_type": "code",
   "execution_count": 32,
   "metadata": {},
   "outputs": [],
   "source": [
    "county_data = pd.read_csv('/Users/cnakhare/Desktop/DataScience/2008-election-results.csv',engine =\"python\")\n",
    "winner = np.array(['McCain'] * county_data.shape[0])\n",
    "winner[(county_data['Obama'] > county_data['McCain']).values] = 'Obama'"
   ]
  },
  {
   "cell_type": "code",
   "execution_count": 34,
   "metadata": {},
   "outputs": [
    {
     "data": {
      "text/html": [
       "<div>\n",
       "<style scoped>\n",
       "    .dataframe tbody tr th:only-of-type {\n",
       "        vertical-align: middle;\n",
       "    }\n",
       "\n",
       "    .dataframe tbody tr th {\n",
       "        vertical-align: top;\n",
       "    }\n",
       "\n",
       "    .dataframe thead th {\n",
       "        text-align: right;\n",
       "    }\n",
       "</style>\n",
       "<table border=\"1\" class=\"dataframe\">\n",
       "  <thead>\n",
       "    <tr style=\"text-align: right;\">\n",
       "      <th></th>\n",
       "      <th>Unnamed: 0</th>\n",
       "      <th>County</th>\n",
       "      <th>FIPS</th>\n",
       "      <th>State</th>\n",
       "      <th>Obama %</th>\n",
       "      <th>McCain %</th>\n",
       "      <th>Obama</th>\n",
       "      <th>McCain</th>\n",
       "    </tr>\n",
       "  </thead>\n",
       "  <tbody>\n",
       "    <tr>\n",
       "      <th>0</th>\n",
       "      <td>0</td>\n",
       "      <td>State House District 8, Denali-University</td>\n",
       "      <td>2008.0</td>\n",
       "      <td>AK</td>\n",
       "      <td>48.40</td>\n",
       "      <td>48.28</td>\n",
       "      <td>4995.0</td>\n",
       "      <td>4983.0</td>\n",
       "    </tr>\n",
       "    <tr>\n",
       "      <th>1</th>\n",
       "      <td>0</td>\n",
       "      <td>State House District 37, Bristol Bay-Aleuti</td>\n",
       "      <td>2037.0</td>\n",
       "      <td>AK</td>\n",
       "      <td>40.04</td>\n",
       "      <td>57.04</td>\n",
       "      <td>1868.0</td>\n",
       "      <td>2661.0</td>\n",
       "    </tr>\n",
       "    <tr>\n",
       "      <th>2</th>\n",
       "      <td>0</td>\n",
       "      <td>State House District 12, Richardson-Glenn H</td>\n",
       "      <td>2012.0</td>\n",
       "      <td>AK</td>\n",
       "      <td>25.22</td>\n",
       "      <td>72.04</td>\n",
       "      <td>1914.0</td>\n",
       "      <td>5467.0</td>\n",
       "    </tr>\n",
       "    <tr>\n",
       "      <th>3</th>\n",
       "      <td>0</td>\n",
       "      <td>State House District 13, Greater Palmer</td>\n",
       "      <td>2013.0</td>\n",
       "      <td>AK</td>\n",
       "      <td>24.29</td>\n",
       "      <td>73.16</td>\n",
       "      <td>2800.0</td>\n",
       "      <td>8432.0</td>\n",
       "    </tr>\n",
       "    <tr>\n",
       "      <th>4</th>\n",
       "      <td>0</td>\n",
       "      <td>State House District 14, Greater Wasilla</td>\n",
       "      <td>2014.0</td>\n",
       "      <td>AK</td>\n",
       "      <td>20.39</td>\n",
       "      <td>77.54</td>\n",
       "      <td>2132.0</td>\n",
       "      <td>8108.0</td>\n",
       "    </tr>\n",
       "    <tr>\n",
       "      <th>5</th>\n",
       "      <td>0</td>\n",
       "      <td>State House District 16, Chugiak-South Mat-</td>\n",
       "      <td>2016.0</td>\n",
       "      <td>AK</td>\n",
       "      <td>24.64</td>\n",
       "      <td>72.67</td>\n",
       "      <td>2636.0</td>\n",
       "      <td>7774.0</td>\n",
       "    </tr>\n",
       "    <tr>\n",
       "      <th>6</th>\n",
       "      <td>0</td>\n",
       "      <td>State House District 15, Rural Mat-Su</td>\n",
       "      <td>2015.0</td>\n",
       "      <td>AK</td>\n",
       "      <td>22.64</td>\n",
       "      <td>74.21</td>\n",
       "      <td>2510.0</td>\n",
       "      <td>8227.0</td>\n",
       "    </tr>\n",
       "    <tr>\n",
       "      <th>7</th>\n",
       "      <td>0</td>\n",
       "      <td>State House District 39, Bering Straits</td>\n",
       "      <td>2039.0</td>\n",
       "      <td>AK</td>\n",
       "      <td>51.99</td>\n",
       "      <td>44.81</td>\n",
       "      <td>2695.0</td>\n",
       "      <td>2323.0</td>\n",
       "    </tr>\n",
       "    <tr>\n",
       "      <th>8</th>\n",
       "      <td>0</td>\n",
       "      <td>State House District 40, Arctic</td>\n",
       "      <td>2040.0</td>\n",
       "      <td>AK</td>\n",
       "      <td>42.74</td>\n",
       "      <td>53.72</td>\n",
       "      <td>2137.0</td>\n",
       "      <td>2686.0</td>\n",
       "    </tr>\n",
       "    <tr>\n",
       "      <th>9</th>\n",
       "      <td>0</td>\n",
       "      <td>State House District 2, Sitka-Wrangell-Pete</td>\n",
       "      <td>2002.0</td>\n",
       "      <td>AK</td>\n",
       "      <td>44.84</td>\n",
       "      <td>52.09</td>\n",
       "      <td>3468.0</td>\n",
       "      <td>4029.0</td>\n",
       "    </tr>\n",
       "  </tbody>\n",
       "</table>\n",
       "</div>"
      ],
      "text/plain": [
       "   Unnamed: 0                                       County    FIPS State  \\\n",
       "0           0    State House District 8, Denali-University  2008.0    AK   \n",
       "1           0  State House District 37, Bristol Bay-Aleuti  2037.0    AK   \n",
       "2           0  State House District 12, Richardson-Glenn H  2012.0    AK   \n",
       "3           0      State House District 13, Greater Palmer  2013.0    AK   \n",
       "4           0     State House District 14, Greater Wasilla  2014.0    AK   \n",
       "5           0  State House District 16, Chugiak-South Mat-  2016.0    AK   \n",
       "6           0        State House District 15, Rural Mat-Su  2015.0    AK   \n",
       "7           0      State House District 39, Bering Straits  2039.0    AK   \n",
       "8           0              State House District 40, Arctic  2040.0    AK   \n",
       "9           0  State House District 2, Sitka-Wrangell-Pete  2002.0    AK   \n",
       "\n",
       "   Obama %  McCain %   Obama  McCain  \n",
       "0    48.40     48.28  4995.0  4983.0  \n",
       "1    40.04     57.04  1868.0  2661.0  \n",
       "2    25.22     72.04  1914.0  5467.0  \n",
       "3    24.29     73.16  2800.0  8432.0  \n",
       "4    20.39     77.54  2132.0  8108.0  \n",
       "5    24.64     72.67  2636.0  7774.0  \n",
       "6    22.64     74.21  2510.0  8227.0  \n",
       "7    51.99     44.81  2695.0  2323.0  \n",
       "8    42.74     53.72  2137.0  2686.0  \n",
       "9    44.84     52.09  3468.0  4029.0  "
      ]
     },
     "execution_count": 34,
     "metadata": {},
     "output_type": "execute_result"
    }
   ],
   "source": [
    "county_data.head(10)"
   ]
  },
  {
   "cell_type": "code",
   "execution_count": 35,
   "metadata": {},
   "outputs": [],
   "source": [
    "from bqplot import Tooltip, AlbersUSA, OrdinalColorScale, ColorAxis"
   ]
  },
  {
   "cell_type": "code",
   "execution_count": 36,
   "metadata": {},
   "outputs": [],
   "source": [
    "sc_geo_county = AlbersUSA()\n",
    "sc_c1_county = OrdinalColorScale(domain=['McCain', 'Obama'], colors=['Red', 'DeepSkyBlue'])\n",
    "color_data_county = dict(zip(county_data['FIPS'].values.astype(int), list(winner)))\n",
    "\n",
    "map_styles_county = {'color': color_data_county,\n",
    "              'scales': {'projection': sc_geo_county, 'color': sc_c1_county}, 'colors': {'default_color': 'Grey'}}\n",
    "\n",
    "county_fig = plt.figure(title='US Elections 2008 - Example')\n",
    "county_map = plt.geo(map_data='USCountiesMap', **map_styles_county)"
   ]
  },
  {
   "cell_type": "code",
   "execution_count": 37,
   "metadata": {},
   "outputs": [],
   "source": [
    "map_tt = Tooltip(fields=['id', 'name', 'color'], labels=['County Code', 'County Name', 'Winner'])"
   ]
  },
  {
   "cell_type": "code",
   "execution_count": 38,
   "metadata": {},
   "outputs": [],
   "source": [
    "county_map.tooltip = map_tt"
   ]
  },
  {
   "cell_type": "code",
   "execution_count": 39,
   "metadata": {},
   "outputs": [
    {
     "data": {
      "application/vnd.jupyter.widget-view+json": {
       "model_id": "ff6db37b8b754612993800fb29b27214",
       "version_major": 2,
       "version_minor": 0
      },
      "text/plain": [
       "Figure(axes=[ColorAxis(scale=OrdinalColorScale(colors=['Red', 'DeepSkyBlue'], domain=['McCain', 'Obama']))], f…"
      ]
     },
     "metadata": {},
     "output_type": "display_data"
    }
   ],
   "source": [
    "county_fig"
   ]
  },
  {
   "cell_type": "markdown",
   "metadata": {},
   "source": [
    "Alternately, any instance of a widget can be made a `Tooltip`"
   ]
  },
  {
   "cell_type": "code",
   "execution_count": 41,
   "metadata": {},
   "outputs": [],
   "source": [
    "tt_fig = plt.figure(title='Testing!')\n",
    "tt_line = plt.plot(x_data, y_data)"
   ]
  },
  {
   "cell_type": "code",
   "execution_count": 42,
   "metadata": {},
   "outputs": [
    {
     "data": {
      "application/vnd.jupyter.widget-view+json": {
       "model_id": "0d76347c5c1a44cea2b32efa263f5cf9",
       "version_major": 2,
       "version_minor": 0
      },
      "text/plain": [
       "Figure(fig_margin={'top': 60, 'bottom': 60, 'left': 60, 'right': 60}, marks=[Map(hovered_styles={'hovered_fill…"
      ]
     },
     "metadata": {},
     "output_type": "display_data"
    }
   ],
   "source": [
    "map_fig = plt.figure(title='World Map')\n",
    "world_map = plt.geo(map_data='WorldMap', tooltip=tt_fig)\n",
    "map_fig"
   ]
  },
  {
   "cell_type": "markdown",
   "metadata": {},
   "source": [
    "**Exercise**: Use the `on_hover` function provided by the `Map` class to generate a specific tooltip for each country."
   ]
  },
  {
   "cell_type": "markdown",
   "metadata": {},
   "source": [
    "## Selections"
   ]
  },
  {
   "cell_type": "code",
   "execution_count": 44,
   "metadata": {
    "scrolled": false
   },
   "outputs": [
    {
     "data": {
      "application/vnd.jupyter.widget-view+json": {
       "model_id": "1201d7f932f442f4807450fb4758c316",
       "version_major": 2,
       "version_minor": 0
      },
      "text/plain": [
       "Figure(axes=[Axis(scale=LinearScale()), Axis(orientation='vertical', scale=LinearScale())], fig_margin={'top':…"
      ]
     },
     "metadata": {},
     "output_type": "display_data"
    }
   ],
   "source": [
    "fig = plt.figure(title='Good god it works')\n",
    "scatter_plot = plt.scatter(x_data, y_data, interactions={'click': 'select'})\n",
    "\n",
    "fig"
   ]
  },
  {
   "cell_type": "code",
   "execution_count": 45,
   "metadata": {},
   "outputs": [],
   "source": [
    "scatter_plot.selected"
   ]
  },
  {
   "cell_type": "code",
   "execution_count": 46,
   "metadata": {},
   "outputs": [],
   "source": [
    "scatter_plot.unselected_style={'opacity': 0.4}\n",
    "scatter_plot.selected_style={'fill': 'red', 'stroke': 'yellow', 'width': '1125px', 'height': '125px'}"
   ]
  },
  {
   "cell_type": "markdown",
   "metadata": {},
   "source": [
    "`selected` is a trait. So we can always observe it."
   ]
  },
  {
   "cell_type": "code",
   "execution_count": 47,
   "metadata": {},
   "outputs": [],
   "source": [
    "def observe_selected(change):\n",
    "    print('The selected indexes are {}'.format(scatter_plot.selected))\n",
    "\n",
    "scatter_plot.observe(observe_selected, 'selected')"
   ]
  },
  {
   "cell_type": "markdown",
   "metadata": {},
   "source": [
    "`selected` can also be set using `Selectors`."
   ]
  },
  {
   "cell_type": "code",
   "execution_count": 48,
   "metadata": {},
   "outputs": [],
   "source": [
    "def call_back(name, value):\n",
    "    print(str(value))\n",
    "    \n",
    "_ = plt.brush_selector(call_back)"
   ]
  },
  {
   "cell_type": "markdown",
   "metadata": {},
   "source": [
    "## Mixing bqplot with ipywidgets"
   ]
  },
  {
   "cell_type": "markdown",
   "metadata": {},
   "source": [
    "The entire framework for bqplot is based on `d3js` (on the JavaScript side) and on the [ipywidgets](www.github.com/ipywidgets) framework. This means that integrating it with native Jupyter widgets is a seamless experience. As is integrating it with other widget based libraries, such as:\n",
    "\n",
    "- ipyleaflet\n",
    "- ipyvolume\n",
    "- pythreejs"
   ]
  },
  {
   "cell_type": "code",
   "execution_count": 49,
   "metadata": {},
   "outputs": [],
   "source": [
    "from sklearn.linear_model import LinearRegression"
   ]
  },
  {
   "cell_type": "code",
   "execution_count": 50,
   "metadata": {},
   "outputs": [],
   "source": [
    "## Let's generate some noisy data\n",
    "\n",
    "x_lin = np.linspace(0, 1, 15)\n",
    "y_lin = 1.1 * x_lin + .3 * np.random.randn(x_lin.shape[0])"
   ]
  },
  {
   "cell_type": "code",
   "execution_count": 51,
   "metadata": {},
   "outputs": [],
   "source": [
    "## Fitting a linear regression to this model\n",
    "\n",
    "lin_reg = LinearRegression()\n",
    "_ = lin_reg.fit(x_lin[:, np.newaxis], y_lin)"
   ]
  },
  {
   "cell_type": "code",
   "execution_count": 52,
   "metadata": {},
   "outputs": [],
   "source": [
    "scat_fig = plt.figure(title='Linear Regression')\n",
    "scat = plt.scatter(x_lin, y_lin, enable_move=True, restrict_y=True)\n",
    "reg_line = plt.plot(x_lin, lin_reg.predict(x_lin[:, np.newaxis]), colors=['Red'])"
   ]
  },
  {
   "cell_type": "markdown",
   "metadata": {},
   "source": [
    "## Everytime a point is moved, we recalibrate the model"
   ]
  },
  {
   "cell_type": "code",
   "execution_count": 53,
   "metadata": {},
   "outputs": [],
   "source": [
    "def point_moved(change):\n",
    "    lin_reg = LinearRegression()\n",
    "    lin_reg.fit(x_lin[:, np.newaxis], scat.y)\n",
    "    reg_line.y = lin_reg.predict(x_lin[:, np.newaxis])\n",
    "    \n",
    "scat.observe(point_moved, 'y')"
   ]
  },
  {
   "cell_type": "code",
   "execution_count": 55,
   "metadata": {
    "scrolled": false
   },
   "outputs": [
    {
     "data": {
      "application/vnd.jupyter.widget-view+json": {
       "model_id": "f89aff923b7047a69f5ae6fc6b5834da",
       "version_major": 2,
       "version_minor": 0
      },
      "text/plain": [
       "Figure(axes=[Axis(scale=LinearScale(), side='bottom'), Axis(orientation='vertical', scale=LinearScale(), side=…"
      ]
     },
     "metadata": {},
     "output_type": "display_data"
    }
   ],
   "source": [
    "scat_fig"
   ]
  },
  {
   "cell_type": "markdown",
   "metadata": {},
   "source": [
    "### Let's tie the line to a slider"
   ]
  },
  {
   "cell_type": "code",
   "execution_count": 56,
   "metadata": {},
   "outputs": [],
   "source": [
    "from ipywidgets import IntSlider, VBox"
   ]
  },
  {
   "cell_type": "code",
   "execution_count": 57,
   "metadata": {},
   "outputs": [],
   "source": [
    "x_test = np.linspace(-1., 1., 100)\n",
    "\n",
    "def update_regression(x_train, y_train, x_test, order):\n",
    "    y_test = np.zeros_like(x_test)\n",
    "    y_test = np.polyval(np.polyfit(x_train, y_train, order), x_test)\n",
    "    return y_test\n",
    "    \n",
    "def params_changed(change):\n",
    "    y_vals = update_regression(scat.x, scat.y, x_test, order_slider.value)\n",
    "    reg_line.y = y_vals"
   ]
  },
  {
   "cell_type": "code",
   "execution_count": 58,
   "metadata": {},
   "outputs": [],
   "source": [
    "x_train = np.linspace(-0.8, 0.8, 10)\n",
    "y_train = 1.1 * (x_train ** 2) + .3 * np.random.randn(x_train.shape[0])"
   ]
  },
  {
   "cell_type": "code",
   "execution_count": 59,
   "metadata": {
    "scrolled": false
   },
   "outputs": [],
   "source": [
    "## slider to decide the order of the regression\n",
    "order_slider = IntSlider(description='Order', min=1, max=5, value=1)\n",
    "order_slider.observe(params_changed, 'value')\n",
    "\n",
    "scat_fig = plt.figure(title='Polynomial Regression', animation_duration=100)\n",
    "\n",
    "## click on the figure to add points to the scatter.\n",
    "## this shows how our model responds to new data.\n",
    "scat = plt.scatter(x_train, y_train, interactions={'click': 'add'})\n",
    "reg_line = plt.plot(x_test, update_regression(x_train, y_train, x_test, order_slider.value),\n",
    "                    colors=['Red'])\n",
    "scat.observe(params_changed, ['x', 'y'])"
   ]
  },
  {
   "cell_type": "code",
   "execution_count": 60,
   "metadata": {
    "scrolled": false
   },
   "outputs": [
    {
     "data": {
      "application/vnd.jupyter.widget-view+json": {
       "model_id": "ce24f90b182245b394d2b5705639866e",
       "version_major": 2,
       "version_minor": 0
      },
      "text/plain": [
       "VBox(children=(IntSlider(value=1, description='Order', max=5, min=1), Figure(animation_duration=100, axes=[Axi…"
      ]
     },
     "metadata": {},
     "output_type": "display_data"
    }
   ],
   "source": [
    "VBox([order_slider, scat_fig])"
   ]
  }
 ],
 "metadata": {
  "kernelspec": {
   "display_name": "Python 3",
   "language": "python",
   "name": "python3"
  },
  "language_info": {
   "codemirror_mode": {
    "name": "ipython",
    "version": 3
   },
   "file_extension": ".py",
   "mimetype": "text/x-python",
   "name": "python",
   "nbconvert_exporter": "python",
   "pygments_lexer": "ipython3",
   "version": "3.7.6"
  }
 },
 "nbformat": 4,
 "nbformat_minor": 2
}
